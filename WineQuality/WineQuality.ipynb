{
 "cells": [
  {
   "cell_type": "code",
   "execution_count": 9,
   "id": "d7e77515",
   "metadata": {},
   "outputs": [],
   "source": [
    "%matplotlib inline\n",
    "\n",
    "import matplotlib\n",
    "import matplotlib.pyplot as plt\n",
    "import numpy as np\n",
    "import pandas as pd\n",
    "import seaborn as sns\n",
    "from sklearn.metrics import confusion_matrix\n",
    "\n",
    "import warnings\n",
    "warnings.filterwarnings('ignore')"
   ]
  },
  {
   "cell_type": "markdown",
   "id": "a1ea2434",
   "metadata": {},
   "source": [
    "# Data Loading and Analysis"
   ]
  },
  {
   "cell_type": "code",
   "execution_count": 10,
   "id": "75e23d9e",
   "metadata": {},
   "outputs": [
    {
     "data": {
      "text/html": [
       "<div>\n",
       "<style scoped>\n",
       "    .dataframe tbody tr th:only-of-type {\n",
       "        vertical-align: middle;\n",
       "    }\n",
       "\n",
       "    .dataframe tbody tr th {\n",
       "        vertical-align: top;\n",
       "    }\n",
       "\n",
       "    .dataframe thead th {\n",
       "        text-align: right;\n",
       "    }\n",
       "</style>\n",
       "<table border=\"1\" class=\"dataframe\">\n",
       "  <thead>\n",
       "    <tr style=\"text-align: right;\">\n",
       "      <th></th>\n",
       "      <th>fixed acidity</th>\n",
       "      <th>volatile acidity</th>\n",
       "      <th>citric acid</th>\n",
       "      <th>residual sugar</th>\n",
       "      <th>chlorides</th>\n",
       "      <th>free sulfur dioxide</th>\n",
       "      <th>total sulfur dioxide</th>\n",
       "      <th>density</th>\n",
       "      <th>pH</th>\n",
       "      <th>sulphates</th>\n",
       "      <th>alcohol</th>\n",
       "      <th>top_quality</th>\n",
       "    </tr>\n",
       "  </thead>\n",
       "  <tbody>\n",
       "    <tr>\n",
       "      <th>0</th>\n",
       "      <td>7.0</td>\n",
       "      <td>0.27</td>\n",
       "      <td>0.36</td>\n",
       "      <td>20.7</td>\n",
       "      <td>0.045</td>\n",
       "      <td>45.0</td>\n",
       "      <td>170.0</td>\n",
       "      <td>1.0010</td>\n",
       "      <td>3.00</td>\n",
       "      <td>0.45</td>\n",
       "      <td>8.8</td>\n",
       "      <td>0</td>\n",
       "    </tr>\n",
       "    <tr>\n",
       "      <th>1</th>\n",
       "      <td>6.3</td>\n",
       "      <td>0.30</td>\n",
       "      <td>0.34</td>\n",
       "      <td>1.6</td>\n",
       "      <td>0.049</td>\n",
       "      <td>14.0</td>\n",
       "      <td>132.0</td>\n",
       "      <td>0.9940</td>\n",
       "      <td>3.30</td>\n",
       "      <td>0.49</td>\n",
       "      <td>9.5</td>\n",
       "      <td>0</td>\n",
       "    </tr>\n",
       "    <tr>\n",
       "      <th>2</th>\n",
       "      <td>8.1</td>\n",
       "      <td>0.28</td>\n",
       "      <td>0.40</td>\n",
       "      <td>6.9</td>\n",
       "      <td>0.050</td>\n",
       "      <td>30.0</td>\n",
       "      <td>97.0</td>\n",
       "      <td>0.9951</td>\n",
       "      <td>3.26</td>\n",
       "      <td>0.44</td>\n",
       "      <td>10.1</td>\n",
       "      <td>0</td>\n",
       "    </tr>\n",
       "    <tr>\n",
       "      <th>3</th>\n",
       "      <td>7.2</td>\n",
       "      <td>0.23</td>\n",
       "      <td>0.32</td>\n",
       "      <td>8.5</td>\n",
       "      <td>0.058</td>\n",
       "      <td>47.0</td>\n",
       "      <td>186.0</td>\n",
       "      <td>0.9956</td>\n",
       "      <td>3.19</td>\n",
       "      <td>0.40</td>\n",
       "      <td>9.9</td>\n",
       "      <td>0</td>\n",
       "    </tr>\n",
       "    <tr>\n",
       "      <th>4</th>\n",
       "      <td>7.2</td>\n",
       "      <td>0.23</td>\n",
       "      <td>0.32</td>\n",
       "      <td>8.5</td>\n",
       "      <td>0.058</td>\n",
       "      <td>47.0</td>\n",
       "      <td>186.0</td>\n",
       "      <td>0.9956</td>\n",
       "      <td>3.19</td>\n",
       "      <td>0.40</td>\n",
       "      <td>9.9</td>\n",
       "      <td>0</td>\n",
       "    </tr>\n",
       "  </tbody>\n",
       "</table>\n",
       "</div>"
      ],
      "text/plain": [
       "   fixed acidity  volatile acidity  citric acid  residual sugar  chlorides  \\\n",
       "0            7.0              0.27         0.36            20.7      0.045   \n",
       "1            6.3              0.30         0.34             1.6      0.049   \n",
       "2            8.1              0.28         0.40             6.9      0.050   \n",
       "3            7.2              0.23         0.32             8.5      0.058   \n",
       "4            7.2              0.23         0.32             8.5      0.058   \n",
       "\n",
       "   free sulfur dioxide  total sulfur dioxide  density    pH  sulphates  \\\n",
       "0                 45.0                 170.0   1.0010  3.00       0.45   \n",
       "1                 14.0                 132.0   0.9940  3.30       0.49   \n",
       "2                 30.0                  97.0   0.9951  3.26       0.44   \n",
       "3                 47.0                 186.0   0.9956  3.19       0.40   \n",
       "4                 47.0                 186.0   0.9956  3.19       0.40   \n",
       "\n",
       "   alcohol  top_quality  \n",
       "0      8.8            0  \n",
       "1      9.5            0  \n",
       "2     10.1            0  \n",
       "3      9.9            0  \n",
       "4      9.9            0  "
      ]
     },
     "execution_count": 10,
     "metadata": {},
     "output_type": "execute_result"
    }
   ],
   "source": [
    "df = pd.read_csv('data/wine_quality.csv')\n",
    "df.head()"
   ]
  },
  {
   "cell_type": "code",
   "execution_count": 11,
   "id": "af4a701e",
   "metadata": {},
   "outputs": [
    {
     "data": {
      "text/plain": [
       "array([0, 1], dtype=int64)"
      ]
     },
     "execution_count": 11,
     "metadata": {},
     "output_type": "execute_result"
    }
   ],
   "source": [
    "df.top_quality.unique()"
   ]
  },
  {
   "cell_type": "code",
   "execution_count": 12,
   "id": "f67918ab",
   "metadata": {},
   "outputs": [
    {
     "data": {
      "image/png": "[encoded data removed]",
      "text/plain": [
       "<Figure size 800x500 with 1 Axes>"
      ]
     },
     "metadata": {},
     "output_type": "display_data"
    }
   ],
   "source": [
    "#podaci su lose balansirani\n",
    "plt.figure(figsize=(8,5))\n",
    "df['top_quality'].value_counts().plot.pie(autopct='%.2f%%')\n",
    "plt.show()\n"
   ]
  },
  {
   "cell_type": "markdown",
   "id": "87a622ef",
   "metadata": {},
   "source": [
    "All attributes are numeric, but on different scales, so we need to normalize them. Additionally, we have imbalanced data with a 4:1 ratio for the target class, so it would be good to balance the data."
   ]
  },
  {
   "cell_type": "markdown",
   "id": "55cfccd5",
   "metadata": {},
   "source": [
    "# Model Creation"
   ]
  },
  {
   "cell_type": "markdown",
   "id": "497c36dd",
   "metadata": {},
   "source": [
    "### Outlier Removal"
   ]
  },
  {
   "cell_type": "code",
   "execution_count": 13,
   "id": "e58b8a14",
   "metadata": {},
   "outputs": [],
   "source": [
    "from scipy import stats\n",
    "\n",
    "df_no_out = df.loc[(np.abs(stats.zscore(df)) < 3).all(axis=1), :]"
   ]
  },
  {
   "cell_type": "code",
   "execution_count": 14,
   "id": "fdfb90eb",
   "metadata": {},
   "outputs": [
    {
     "name": "stdout",
     "output_type": "stream",
     "text": [
      "396 Outliers have been removed. Percentage: 0.08084932625561454\n"
     ]
    }
   ],
   "source": [
    "print(f'{str(df.shape[0] - df_no_out.shape[0])} Outliers have been removed. Percentage: {str((df.shape[0] - df_no_out.shape[0]) / df.shape[0])}')"
   ]
  },
  {
   "cell_type": "markdown",
   "id": "133fd7ca",
   "metadata": {},
   "source": [
    "### Splitting into Training and Test Data"
   ]
  },
  {
   "cell_type": "code",
   "execution_count": 15,
   "id": "bbbc8453",
   "metadata": {},
   "outputs": [],
   "source": [
    "X = df_no_out.drop('top_quality', axis=1)\n",
    "# In the training set, all data except for the 'top quality' column are included, as it is needed for the classification output.\n",
    "y = df_no_out['top_quality'] # test skup"
   ]
  },
  {
   "cell_type": "code",
   "execution_count": 16,
   "id": "af9be847",
   "metadata": {},
   "outputs": [],
   "source": [
    "from sklearn.model_selection import train_test_split\n",
    "\n",
    "X_train, X_test, y_train, y_test = train_test_split(X, y, test_size=0.3, random_state=42, stratify=y) \n",
    "# For data balancing, stratify."
   ]
  },
  {
   "cell_type": "code",
   "execution_count": 17,
   "id": "cb623e1e",
   "metadata": {},
   "outputs": [
    {
     "name": "stdout",
     "output_type": "stream",
     "text": [
      "Training size: 3151. Test size: 1351\n"
     ]
    }
   ],
   "source": [
    "print(f'Training size: {str(X_train.shape[0])}. Test size: {str(X_test.shape[0])}')"
   ]
  },
  {
   "cell_type": "markdown",
   "id": "0d875ced",
   "metadata": {},
   "source": [
    "### Data Scaling"
   ]
  },
  {
   "cell_type": "markdown",
   "id": "9fb77ad4",
   "metadata": {},
   "source": [
    "MaxMinScaler was used, which was \"learned\" on the training set and then only used to transform the test set."
   ]
  },
  {
   "cell_type": "code",
   "execution_count": 18,
   "id": "17f28ed7",
   "metadata": {},
   "outputs": [
    {
     "data": {
      "text/plain": [
       "array([[0.79591837, 0.38      , 0.49275362, ..., 0.45882353, 0.47540984,\n",
       "        0.32758621],\n",
       "       [0.28571429, 0.46      , 0.47826087, ..., 0.45882353, 0.62295082,\n",
       "        0.36206897],\n",
       "       [0.79591837, 0.14      , 0.56521739, ..., 0.34117647, 0.27868852,\n",
       "        0.36206897],\n",
       "       ...,\n",
       "       [0.51020408, 0.34      , 0.42028986, ..., 0.25882353, 0.2295082 ,\n",
       "        0.56896552],\n",
       "       [0.42857143, 0.6       , 0.49275362, ..., 0.41176471, 0.8852459 ,\n",
       "        0.27586207],\n",
       "       [0.32653061, 0.2       , 0.44927536, ..., 0.64705882, 0.59016393,\n",
       "        0.46551724]])"
      ]
     },
     "execution_count": 18,
     "metadata": {},
     "output_type": "execute_result"
    }
   ],
   "source": [
    "from sklearn.preprocessing import MinMaxScaler\n",
    "\n",
    "sc = MinMaxScaler()\n",
    "X_train = sc.fit_transform(X_train)\n",
    "X_test = sc.transform(X_test)\n",
    "X_train"
   ]
  },
  {
   "cell_type": "markdown",
   "id": "a5ca2c8b",
   "metadata": {},
   "source": [
    "## Initial Models"
   ]
  },
  {
   "cell_type": "markdown",
   "id": "1659ba8a",
   "metadata": {},
   "source": [
    "### Logistic Regression"
   ]
  },
  {
   "cell_type": "code",
   "execution_count": 19,
   "id": "0ce9d7fe",
   "metadata": {},
   "outputs": [
    {
     "data": {
      "text/html": [
       "<style>#sk-container-id-1 {color: black;}#sk-container-id-1 pre{padding: 0;}#sk-container-id-1 div.sk-toggleable {background-color: white;}#sk-container-id-1 label.sk-toggleable__label {cursor: pointer;display: block;width: 100%;margin-bottom: 0;padding: 0.3em;box-sizing: border-box;text-align: center;}#sk-container-id-1 label.sk-toggleable__label-arrow:before {content: \"▸\";float: left;margin-right: 0.25em;color: #696969;}#sk-container-id-1 label.sk-toggleable__label-arrow:hover:before {color: black;}#sk-container-id-1 div.sk-estimator:hover label.sk-toggleable__label-arrow:before {color: black;}#sk-container-id-1 div.sk-toggleable__content {max-height: 0;max-width: 0;overflow: hidden;text-align: left;background-color: #f0f8ff;}#sk-container-id-1 div.sk-toggleable__content pre {margin: 0.2em;color: black;border-radius: 0.25em;background-color: #f0f8ff;}#sk-container-id-1 input.sk-toggleable__control:checked~div.sk-toggleable__content {max-height: 200px;max-width: 100%;overflow: auto;}#sk-container-id-1 input.sk-toggleable__control:checked~label.sk-toggleable__label-arrow:before {content: \"▾\";}#sk-container-id-1 div.sk-estimator input.sk-toggleable__control:checked~label.sk-toggleable__label {background-color: #d4ebff;}#sk-container-id-1 div.sk-label input.sk-toggleable__control:checked~label.sk-toggleable__label {background-color: #d4ebff;}#sk-container-id-1 input.sk-hidden--visually {border: 0;clip: rect(1px 1px 1px 1px);clip: rect(1px, 1px, 1px, 1px);height: 1px;margin: -1px;overflow: hidden;padding: 0;position: absolute;width: 1px;}#sk-container-id-1 div.sk-estimator {font-family: monospace;background-color: #f0f8ff;border: 1px dotted black;border-radius: 0.25em;box-sizing: border-box;margin-bottom: 0.5em;}#sk-container-id-1 div.sk-estimator:hover {background-color: #d4ebff;}#sk-container-id-1 div.sk-parallel-item::after {content: \"\";width: 100%;border-bottom: 1px solid gray;flex-grow: 1;}#sk-container-id-1 div.sk-label:hover label.sk-toggleable__label {background-color: #d4ebff;}#sk-container-id-1 div.sk-serial::before {content: \"\";position: absolute;border-left: 1px solid gray;box-sizing: border-box;top: 0;bottom: 0;left: 50%;z-index: 0;}#sk-container-id-1 div.sk-serial {display: flex;flex-direction: column;align-items: center;background-color: white;padding-right: 0.2em;padding-left: 0.2em;position: relative;}#sk-container-id-1 div.sk-item {position: relative;z-index: 1;}#sk-container-id-1 div.sk-parallel {display: flex;align-items: stretch;justify-content: center;background-color: white;position: relative;}#sk-container-id-1 div.sk-item::before, #sk-container-id-1 div.sk-parallel-item::before {content: \"\";position: absolute;border-left: 1px solid gray;box-sizing: border-box;top: 0;bottom: 0;left: 50%;z-index: -1;}#sk-container-id-1 div.sk-parallel-item {display: flex;flex-direction: column;z-index: 1;position: relative;background-color: white;}#sk-container-id-1 div.sk-parallel-item:first-child::after {align-self: flex-end;width: 50%;}#sk-container-id-1 div.sk-parallel-item:last-child::after {align-self: flex-start;width: 50%;}#sk-container-id-1 div.sk-parallel-item:only-child::after {width: 0;}#sk-container-id-1 div.sk-dashed-wrapped {border: 1px dashed gray;margin: 0 0.4em 0.5em 0.4em;box-sizing: border-box;padding-bottom: 0.4em;background-color: white;}#sk-container-id-1 div.sk-label label {font-family: monospace;font-weight: bold;display: inline-block;line-height: 1.2em;}#sk-container-id-1 div.sk-label-container {text-align: center;}#sk-container-id-1 div.sk-container {/* jupyter's `normalize.less` sets `[hidden] { display: none; }` but bootstrap.min.css set `[hidden] { display: none !important; }` so we also need the `!important` here to be able to override the default hidden behavior on the sphinx rendered scikit-learn.org. See: https://github.com/scikit-learn/scikit-learn/issues/21755 */display: inline-block !important;position: relative;}#sk-container-id-1 div.sk-text-repr-fallback {display: none;}</style><div id=\"sk-container-id-1\" class=\"sk-top-container\"><div class=\"sk-text-repr-fallback\"><pre>LogisticRegression()</pre><b>In a Jupyter environment, please rerun this cell to show the HTML representation or trust the notebook. <br />On GitHub, the HTML representation is unable to render, please try loading this page with nbviewer.org.</b></div><div class=\"sk-container\" hidden><div class=\"sk-item\"><div class=\"sk-estimator sk-toggleable\"><input class=\"sk-toggleable__control sk-hidden--visually\" id=\"sk-estimator-id-1\" type=\"checkbox\" checked><label for=\"sk-estimator-id-1\" class=\"sk-toggleable__label sk-toggleable__label-arrow\">LogisticRegression</label><div class=\"sk-toggleable__content\"><pre>LogisticRegression()</pre></div></div></div></div></div>"
      ],
      "text/plain": [
       "LogisticRegression()"
      ]
     },
     "execution_count": 19,
     "metadata": {},
     "output_type": "execute_result"
    }
   ],
   "source": [
    "from sklearn.linear_model import LogisticRegression\n",
    "\n",
    "model_lr = LogisticRegression()\n",
    "model_lr.fit(X_train, y_train)"
   ]
  },
  {
   "cell_type": "markdown",
   "id": "9d6449eb",
   "metadata": {},
   "source": [
    "### Decision Tree"
   ]
  },
  {
   "cell_type": "code",
   "execution_count": 20,
   "id": "f8f22f66",
   "metadata": {},
   "outputs": [
    {
     "data": {
      "text/html": [
       "<style>#sk-container-id-2 {color: black;}#sk-container-id-2 pre{padding: 0;}#sk-container-id-2 div.sk-toggleable {background-color: white;}#sk-container-id-2 label.sk-toggleable__label {cursor: pointer;display: block;width: 100%;margin-bottom: 0;padding: 0.3em;box-sizing: border-box;text-align: center;}#sk-container-id-2 label.sk-toggleable__label-arrow:before {content: \"▸\";float: left;margin-right: 0.25em;color: #696969;}#sk-container-id-2 label.sk-toggleable__label-arrow:hover:before {color: black;}#sk-container-id-2 div.sk-estimator:hover label.sk-toggleable__label-arrow:before {color: black;}#sk-container-id-2 div.sk-toggleable__content {max-height: 0;max-width: 0;overflow: hidden;text-align: left;background-color: #f0f8ff;}#sk-container-id-2 div.sk-toggleable__content pre {margin: 0.2em;color: black;border-radius: 0.25em;background-color: #f0f8ff;}#sk-container-id-2 input.sk-toggleable__control:checked~div.sk-toggleable__content {max-height: 200px;max-width: 100%;overflow: auto;}#sk-container-id-2 input.sk-toggleable__control:checked~label.sk-toggleable__label-arrow:before {content: \"▾\";}#sk-container-id-2 div.sk-estimator input.sk-toggleable__control:checked~label.sk-toggleable__label {background-color: #d4ebff;}#sk-container-id-2 div.sk-label input.sk-toggleable__control:checked~label.sk-toggleable__label {background-color: #d4ebff;}#sk-container-id-2 input.sk-hidden--visually {border: 0;clip: rect(1px 1px 1px 1px);clip: rect(1px, 1px, 1px, 1px);height: 1px;margin: -1px;overflow: hidden;padding: 0;position: absolute;width: 1px;}#sk-container-id-2 div.sk-estimator {font-family: monospace;background-color: #f0f8ff;border: 1px dotted black;border-radius: 0.25em;box-sizing: border-box;margin-bottom: 0.5em;}#sk-container-id-2 div.sk-estimator:hover {background-color: #d4ebff;}#sk-container-id-2 div.sk-parallel-item::after {content: \"\";width: 100%;border-bottom: 1px solid gray;flex-grow: 1;}#sk-container-id-2 div.sk-label:hover label.sk-toggleable__label {background-color: #d4ebff;}#sk-container-id-2 div.sk-serial::before {content: \"\";position: absolute;border-left: 1px solid gray;box-sizing: border-box;top: 0;bottom: 0;left: 50%;z-index: 0;}#sk-container-id-2 div.sk-serial {display: flex;flex-direction: column;align-items: center;background-color: white;padding-right: 0.2em;padding-left: 0.2em;position: relative;}#sk-container-id-2 div.sk-item {position: relative;z-index: 1;}#sk-container-id-2 div.sk-parallel {display: flex;align-items: stretch;justify-content: center;background-color: white;position: relative;}#sk-container-id-2 div.sk-item::before, #sk-container-id-2 div.sk-parallel-item::before {content: \"\";position: absolute;border-left: 1px solid gray;box-sizing: border-box;top: 0;bottom: 0;left: 50%;z-index: -1;}#sk-container-id-2 div.sk-parallel-item {display: flex;flex-direction: column;z-index: 1;position: relative;background-color: white;}#sk-container-id-2 div.sk-parallel-item:first-child::after {align-self: flex-end;width: 50%;}#sk-container-id-2 div.sk-parallel-item:last-child::after {align-self: flex-start;width: 50%;}#sk-container-id-2 div.sk-parallel-item:only-child::after {width: 0;}#sk-container-id-2 div.sk-dashed-wrapped {border: 1px dashed gray;margin: 0 0.4em 0.5em 0.4em;box-sizing: border-box;padding-bottom: 0.4em;background-color: white;}#sk-container-id-2 div.sk-label label {font-family: monospace;font-weight: bold;display: inline-block;line-height: 1.2em;}#sk-container-id-2 div.sk-label-container {text-align: center;}#sk-container-id-2 div.sk-container {/* jupyter's `normalize.less` sets `[hidden] { display: none; }` but bootstrap.min.css set `[hidden] { display: none !important; }` so we also need the `!important` here to be able to override the default hidden behavior on the sphinx rendered scikit-learn.org. See: https://github.com/scikit-learn/scikit-learn/issues/21755 */display: inline-block !important;position: relative;}#sk-container-id-2 div.sk-text-repr-fallback {display: none;}</style><div id=\"sk-container-id-2\" class=\"sk-top-container\"><div class=\"sk-text-repr-fallback\"><pre>DecisionTreeClassifier()</pre><b>In a Jupyter environment, please rerun this cell to show the HTML representation or trust the notebook. <br />On GitHub, the HTML representation is unable to render, please try loading this page with nbviewer.org.</b></div><div class=\"sk-container\" hidden><div class=\"sk-item\"><div class=\"sk-estimator sk-toggleable\"><input class=\"sk-toggleable__control sk-hidden--visually\" id=\"sk-estimator-id-2\" type=\"checkbox\" checked><label for=\"sk-estimator-id-2\" class=\"sk-toggleable__label sk-toggleable__label-arrow\">DecisionTreeClassifier</label><div class=\"sk-toggleable__content\"><pre>DecisionTreeClassifier()</pre></div></div></div></div></div>"
      ],
      "text/plain": [
       "DecisionTreeClassifier()"
      ]
     },
     "execution_count": 20,
     "metadata": {},
     "output_type": "execute_result"
    }
   ],
   "source": [
    "from sklearn.tree import DecisionTreeClassifier\n",
    "\n",
    "model_tree = DecisionTreeClassifier()\n",
    "model_tree.fit(X_train, y_train)"
   ]
  },
  {
   "cell_type": "markdown",
   "id": "22c23985",
   "metadata": {},
   "source": [
    "### KNN"
   ]
  },
  {
   "cell_type": "code",
   "execution_count": 21,
   "id": "d508b1e9",
   "metadata": {},
   "outputs": [
    {
     "data": {
      "text/html": [
       "<style>#sk-container-id-3 {color: black;}#sk-container-id-3 pre{padding: 0;}#sk-container-id-3 div.sk-toggleable {background-color: white;}#sk-container-id-3 label.sk-toggleable__label {cursor: pointer;display: block;width: 100%;margin-bottom: 0;padding: 0.3em;box-sizing: border-box;text-align: center;}#sk-container-id-3 label.sk-toggleable__label-arrow:before {content: \"▸\";float: left;margin-right: 0.25em;color: #696969;}#sk-container-id-3 label.sk-toggleable__label-arrow:hover:before {color: black;}#sk-container-id-3 div.sk-estimator:hover label.sk-toggleable__label-arrow:before {color: black;}#sk-container-id-3 div.sk-toggleable__content {max-height: 0;max-width: 0;overflow: hidden;text-align: left;background-color: #f0f8ff;}#sk-container-id-3 div.sk-toggleable__content pre {margin: 0.2em;color: black;border-radius: 0.25em;background-color: #f0f8ff;}#sk-container-id-3 input.sk-toggleable__control:checked~div.sk-toggleable__content {max-height: 200px;max-width: 100%;overflow: auto;}#sk-container-id-3 input.sk-toggleable__control:checked~label.sk-toggleable__label-arrow:before {content: \"▾\";}#sk-container-id-3 div.sk-estimator input.sk-toggleable__control:checked~label.sk-toggleable__label {background-color: #d4ebff;}#sk-container-id-3 div.sk-label input.sk-toggleable__control:checked~label.sk-toggleable__label {background-color: #d4ebff;}#sk-container-id-3 input.sk-hidden--visually {border: 0;clip: rect(1px 1px 1px 1px);clip: rect(1px, 1px, 1px, 1px);height: 1px;margin: -1px;overflow: hidden;padding: 0;position: absolute;width: 1px;}#sk-container-id-3 div.sk-estimator {font-family: monospace;background-color: #f0f8ff;border: 1px dotted black;border-radius: 0.25em;box-sizing: border-box;margin-bottom: 0.5em;}#sk-container-id-3 div.sk-estimator:hover {background-color: #d4ebff;}#sk-container-id-3 div.sk-parallel-item::after {content: \"\";width: 100%;border-bottom: 1px solid gray;flex-grow: 1;}#sk-container-id-3 div.sk-label:hover label.sk-toggleable__label {background-color: #d4ebff;}#sk-container-id-3 div.sk-serial::before {content: \"\";position: absolute;border-left: 1px solid gray;box-sizing: border-box;top: 0;bottom: 0;left: 50%;z-index: 0;}#sk-container-id-3 div.sk-serial {display: flex;flex-direction: column;align-items: center;background-color: white;padding-right: 0.2em;padding-left: 0.2em;position: relative;}#sk-container-id-3 div.sk-item {position: relative;z-index: 1;}#sk-container-id-3 div.sk-parallel {display: flex;align-items: stretch;justify-content: center;background-color: white;position: relative;}#sk-container-id-3 div.sk-item::before, #sk-container-id-3 div.sk-parallel-item::before {content: \"\";position: absolute;border-left: 1px solid gray;box-sizing: border-box;top: 0;bottom: 0;left: 50%;z-index: -1;}#sk-container-id-3 div.sk-parallel-item {display: flex;flex-direction: column;z-index: 1;position: relative;background-color: white;}#sk-container-id-3 div.sk-parallel-item:first-child::after {align-self: flex-end;width: 50%;}#sk-container-id-3 div.sk-parallel-item:last-child::after {align-self: flex-start;width: 50%;}#sk-container-id-3 div.sk-parallel-item:only-child::after {width: 0;}#sk-container-id-3 div.sk-dashed-wrapped {border: 1px dashed gray;margin: 0 0.4em 0.5em 0.4em;box-sizing: border-box;padding-bottom: 0.4em;background-color: white;}#sk-container-id-3 div.sk-label label {font-family: monospace;font-weight: bold;display: inline-block;line-height: 1.2em;}#sk-container-id-3 div.sk-label-container {text-align: center;}#sk-container-id-3 div.sk-container {/* jupyter's `normalize.less` sets `[hidden] { display: none; }` but bootstrap.min.css set `[hidden] { display: none !important; }` so we also need the `!important` here to be able to override the default hidden behavior on the sphinx rendered scikit-learn.org. See: https://github.com/scikit-learn/scikit-learn/issues/21755 */display: inline-block !important;position: relative;}#sk-container-id-3 div.sk-text-repr-fallback {display: none;}</style><div id=\"sk-container-id-3\" class=\"sk-top-container\"><div class=\"sk-text-repr-fallback\"><pre>KNeighborsClassifier()</pre><b>In a Jupyter environment, please rerun this cell to show the HTML representation or trust the notebook. <br />On GitHub, the HTML representation is unable to render, please try loading this page with nbviewer.org.</b></div><div class=\"sk-container\" hidden><div class=\"sk-item\"><div class=\"sk-estimator sk-toggleable\"><input class=\"sk-toggleable__control sk-hidden--visually\" id=\"sk-estimator-id-3\" type=\"checkbox\" checked><label for=\"sk-estimator-id-3\" class=\"sk-toggleable__label sk-toggleable__label-arrow\">KNeighborsClassifier</label><div class=\"sk-toggleable__content\"><pre>KNeighborsClassifier()</pre></div></div></div></div></div>"
      ],
      "text/plain": [
       "KNeighborsClassifier()"
      ]
     },
     "execution_count": 21,
     "metadata": {},
     "output_type": "execute_result"
    }
   ],
   "source": [
    "from sklearn.neighbors import KNeighborsClassifier\n",
    "\n",
    "model_knn = KNeighborsClassifier()\n",
    "model_knn.fit(X_train, y_train)"
   ]
  },
  {
   "cell_type": "markdown",
   "id": "798ac3e9",
   "metadata": {},
   "source": [
    "### Random Forest"
   ]
  },
  {
   "cell_type": "code",
   "execution_count": 22,
   "id": "698546a5",
   "metadata": {},
   "outputs": [
    {
     "data": {
      "text/html": [
       "<style>#sk-container-id-4 {color: black;}#sk-container-id-4 pre{padding: 0;}#sk-container-id-4 div.sk-toggleable {background-color: white;}#sk-container-id-4 label.sk-toggleable__label {cursor: pointer;display: block;width: 100%;margin-bottom: 0;padding: 0.3em;box-sizing: border-box;text-align: center;}#sk-container-id-4 label.sk-toggleable__label-arrow:before {content: \"▸\";float: left;margin-right: 0.25em;color: #696969;}#sk-container-id-4 label.sk-toggleable__label-arrow:hover:before {color: black;}#sk-container-id-4 div.sk-estimator:hover label.sk-toggleable__label-arrow:before {color: black;}#sk-container-id-4 div.sk-toggleable__content {max-height: 0;max-width: 0;overflow: hidden;text-align: left;background-color: #f0f8ff;}#sk-container-id-4 div.sk-toggleable__content pre {margin: 0.2em;color: black;border-radius: 0.25em;background-color: #f0f8ff;}#sk-container-id-4 input.sk-toggleable__control:checked~div.sk-toggleable__content {max-height: 200px;max-width: 100%;overflow: auto;}#sk-container-id-4 input.sk-toggleable__control:checked~label.sk-toggleable__label-arrow:before {content: \"▾\";}#sk-container-id-4 div.sk-estimator input.sk-toggleable__control:checked~label.sk-toggleable__label {background-color: #d4ebff;}#sk-container-id-4 div.sk-label input.sk-toggleable__control:checked~label.sk-toggleable__label {background-color: #d4ebff;}#sk-container-id-4 input.sk-hidden--visually {border: 0;clip: rect(1px 1px 1px 1px);clip: rect(1px, 1px, 1px, 1px);height: 1px;margin: -1px;overflow: hidden;padding: 0;position: absolute;width: 1px;}#sk-container-id-4 div.sk-estimator {font-family: monospace;background-color: #f0f8ff;border: 1px dotted black;border-radius: 0.25em;box-sizing: border-box;margin-bottom: 0.5em;}#sk-container-id-4 div.sk-estimator:hover {background-color: #d4ebff;}#sk-container-id-4 div.sk-parallel-item::after {content: \"\";width: 100%;border-bottom: 1px solid gray;flex-grow: 1;}#sk-container-id-4 div.sk-label:hover label.sk-toggleable__label {background-color: #d4ebff;}#sk-container-id-4 div.sk-serial::before {content: \"\";position: absolute;border-left: 1px solid gray;box-sizing: border-box;top: 0;bottom: 0;left: 50%;z-index: 0;}#sk-container-id-4 div.sk-serial {display: flex;flex-direction: column;align-items: center;background-color: white;padding-right: 0.2em;padding-left: 0.2em;position: relative;}#sk-container-id-4 div.sk-item {position: relative;z-index: 1;}#sk-container-id-4 div.sk-parallel {display: flex;align-items: stretch;justify-content: center;background-color: white;position: relative;}#sk-container-id-4 div.sk-item::before, #sk-container-id-4 div.sk-parallel-item::before {content: \"\";position: absolute;border-left: 1px solid gray;box-sizing: border-box;top: 0;bottom: 0;left: 50%;z-index: -1;}#sk-container-id-4 div.sk-parallel-item {display: flex;flex-direction: column;z-index: 1;position: relative;background-color: white;}#sk-container-id-4 div.sk-parallel-item:first-child::after {align-self: flex-end;width: 50%;}#sk-container-id-4 div.sk-parallel-item:last-child::after {align-self: flex-start;width: 50%;}#sk-container-id-4 div.sk-parallel-item:only-child::after {width: 0;}#sk-container-id-4 div.sk-dashed-wrapped {border: 1px dashed gray;margin: 0 0.4em 0.5em 0.4em;box-sizing: border-box;padding-bottom: 0.4em;background-color: white;}#sk-container-id-4 div.sk-label label {font-family: monospace;font-weight: bold;display: inline-block;line-height: 1.2em;}#sk-container-id-4 div.sk-label-container {text-align: center;}#sk-container-id-4 div.sk-container {/* jupyter's `normalize.less` sets `[hidden] { display: none; }` but bootstrap.min.css set `[hidden] { display: none !important; }` so we also need the `!important` here to be able to override the default hidden behavior on the sphinx rendered scikit-learn.org. See: https://github.com/scikit-learn/scikit-learn/issues/21755 */display: inline-block !important;position: relative;}#sk-container-id-4 div.sk-text-repr-fallback {display: none;}</style><div id=\"sk-container-id-4\" class=\"sk-top-container\"><div class=\"sk-text-repr-fallback\"><pre>RandomForestClassifier()</pre><b>In a Jupyter environment, please rerun this cell to show the HTML representation or trust the notebook. <br />On GitHub, the HTML representation is unable to render, please try loading this page with nbviewer.org.</b></div><div class=\"sk-container\" hidden><div class=\"sk-item\"><div class=\"sk-estimator sk-toggleable\"><input class=\"sk-toggleable__control sk-hidden--visually\" id=\"sk-estimator-id-4\" type=\"checkbox\" checked><label for=\"sk-estimator-id-4\" class=\"sk-toggleable__label sk-toggleable__label-arrow\">RandomForestClassifier</label><div class=\"sk-toggleable__content\"><pre>RandomForestClassifier()</pre></div></div></div></div></div>"
      ],
      "text/plain": [
       "RandomForestClassifier()"
      ]
     },
     "execution_count": 22,
     "metadata": {},
     "output_type": "execute_result"
    }
   ],
   "source": [
    "from sklearn.ensemble import RandomForestClassifier\n",
    "\n",
    "model_rff = RandomForestClassifier()\n",
    "model_rff.fit(X_train, y_train)"
   ]
  },
  {
   "cell_type": "markdown",
   "id": "92aa0c1b",
   "metadata": {},
   "source": [
    "### Evaluation"
   ]
  },
  {
   "cell_type": "markdown",
   "id": "1ff8b48e",
   "metadata": {},
   "source": [
    "- Assess the generalization error for all models based on several metrics"
   ]
  },
  {
   "cell_type": "code",
   "execution_count": 25,
   "id": "1bba7535",
   "metadata": {
    "scrolled": false
   },
   "outputs": [
    {
     "name": "stdout",
     "output_type": "stream",
     "text": [
      "Collecting prettytable\n",
      "  Downloading prettytable-3.10.0-py3-none-any.whl.metadata (30 kB)\n",
      "Requirement already satisfied: wcwidth in c:\\users\\nesic\\appdata\\roaming\\python\\python311\\site-packages (from prettytable) (0.2.6)\n",
      "Downloading prettytable-3.10.0-py3-none-any.whl (28 kB)\n",
      "Installing collected packages: prettytable\n",
      "Successfully installed prettytable-3.10.0\n",
      "Note: you may need to restart the kernel to use updated packages.\n"
     ]
    },
    {
     "name": "stderr",
     "output_type": "stream",
     "text": [
      "\n",
      "[notice] A new release of pip is available: 23.3 -> 24.0\n",
      "[notice] To update, run: python.exe -m pip install --upgrade pip\n"
     ]
    }
   ],
   "source": [
    "pip install prettytable"
   ]
  },
  {
   "cell_type": "code",
   "execution_count": 26,
   "id": "64595524",
   "metadata": {},
   "outputs": [],
   "source": [
    "from sklearn.metrics import confusion_matrix, accuracy_score, precision_score, recall_score, roc_auc_score\n",
    "from prettytable import PrettyTable"
   ]
  },
  {
   "cell_type": "code",
   "execution_count": 44,
   "id": "0ac80e19",
   "metadata": {},
   "outputs": [],
   "source": [
    "def evaluate(models, scores, X=X_train, y=y_train):\n",
    "    t = PrettyTable(['Model\\Evaluation Metric'] + [str(score).split()[1] for score in scores])\n",
    "    for model in models:\n",
    "        y_pred = model.predict(X)\n",
    "        t.add_row([str(model).split('(')[0]] + [score(y, y_pred) for score in scores])\n",
    "    print(t)\n",
    "    print('\\n')"
   ]
  },
  {
   "cell_type": "code",
   "execution_count": 45,
   "id": "0d3a4df8",
   "metadata": {},
   "outputs": [
    {
     "name": "stdout",
     "output_type": "stream",
     "text": [
      "+-------------------------+--------------------+--------------------+---------------------+--------------------+\n",
      "| Model\\Evaluation Metric |   accuracy_score   |  precision_score   |     recall_score    |   roc_auc_score    |\n",
      "+-------------------------+--------------------+--------------------+---------------------+--------------------+\n",
      "|    LogisticRegression   | 0.7997461123452873 |      0.63125       | 0.28251748251748254 | 0.6170387084180188 |\n",
      "|  DecisionTreeClassifier |        1.0         |        1.0         |         1.0         |        1.0         |\n",
      "|   KNeighborsClassifier  | 0.8803554427165979 | 0.7835570469798657 |  0.6531468531468532 | 0.8000955940611113 |\n",
      "|  RandomForestClassifier |        1.0         |        1.0         |         1.0         |        1.0         |\n",
      "+-------------------------+--------------------+--------------------+---------------------+--------------------+\n",
      "\n",
      "\n"
     ]
    }
   ],
   "source": [
    "models = [model_lr, model_tree, model_knn, model_rff]\n",
    "scores = [accuracy_score, precision_score, recall_score, roc_auc_score]\n",
    "\n",
    "evaluate(models, scores, X_train, y_train) #evaluacija podataka za trening "
   ]
  },
  {
   "cell_type": "code",
   "execution_count": 46,
   "id": "36f89725",
   "metadata": {},
   "outputs": [
    {
     "name": "stdout",
     "output_type": "stream",
     "text": [
      "+-------------------------+--------------------+--------------------+---------------------+--------------------+\n",
      "| Model\\Evaluation Metric |   accuracy_score   |  precision_score   |     recall_score    |   roc_auc_score    |\n",
      "+-------------------------+--------------------+--------------------+---------------------+--------------------+\n",
      "|    LogisticRegression   | 0.7927461139896373 | 0.6140350877192983 | 0.22875816993464052 | 0.593326453388373  |\n",
      "|  DecisionTreeClassifier | 0.8179126572908957 | 0.6027397260273972 |  0.5751633986928104 | 0.7320793070019076 |\n",
      "|   KNeighborsClassifier  | 0.8164322723908216 | 0.6141732283464567 |  0.5098039215686274 | 0.7080120086312037 |\n",
      "|  RandomForestClassifier | 0.8712065136935603 | 0.7796610169491526 |  0.6013071895424836 | 0.7757732119961223 |\n",
      "+-------------------------+--------------------+--------------------+---------------------+--------------------+\n",
      "\n",
      "\n"
     ]
    }
   ],
   "source": [
    "evaluate(models, scores, X_test, y_test) #evaluacija podataka za test"
   ]
  },
  {
   "cell_type": "markdown",
   "id": "13738f7a",
   "metadata": {},
   "source": [
    "### Evaluacija unakrsnom cross-validacijom"
   ]
  },
  {
   "cell_type": "markdown",
   "id": "83b5adba",
   "metadata": {},
   "source": [
    "    - prikazati i standardnu devijaciju procene greške (od 10 kros-validacionih uzoraka)"
   ]
  },
  {
   "cell_type": "code",
   "execution_count": 47,
   "id": "51ed5c18",
   "metadata": {},
   "outputs": [
    {
     "name": "stdout",
     "output_type": "stream",
     "text": [
      "[Logistic regression] Accuracy: 0.78 +/- 0.03\n",
      "[Descision Tree] Accuracy: 0.75 +/- 0.03\n",
      "[K-NN] Accuracy: 0.74 +/- 0.03\n",
      "[Random Forest] Accuracy: 0.80 +/- 0.01\n"
     ]
    }
   ],
   "source": [
    "from sklearn.model_selection import cross_val_score\n",
    "\n",
    "for model, label in zip([model_lr, model_tree, model_knn, model_rff], ['Logistic regression', 'Descision Tree', 'K-NN', 'Random Forest']):\n",
    "    cv_scores = cross_val_score(model, X, y, cv=10, scoring='accuracy')\n",
    "    print('[%s] Accuracy: %0.2f +/- %0.2f' % (label, cv_scores.mean(), cv_scores.std()))"
   ]
  },
  {
   "cell_type": "markdown",
   "id": "43b49f30",
   "metadata": {},
   "source": [
    "The models are overfitting as there is a variation of 2-4% in accuracy. In particular, the DT model is overfitting, which is expected because it is not constrained by any meta-parameters. Additionally, from the standard training-test evaluation, it is clear that the KNN and RF models are also overfitting, as there are significant differences in accuracy between these two sets."
   ]
  },
  {
   "cell_type": "markdown",
   "id": "93eee8d7",
   "metadata": {},
   "source": [
    "For this problem, the most appropriate metric is Recall. Our positive class is that the wine is of good quality. If we consider the problem as wanting to detect all wines that are good, then our error of not detecting some good wine (FN) is much more costly than mistakenly classifying a bad wine as good (FP). If we miss a good wine, it remains undiscovered, while if we classify a bad wine as good, in the worst case, we will taste it and conclude that it is actually bad. Therefore, an adequate evaluation measure is one that emphasizes the significance of FN errors - that is Recall.\n",
    "\n",
    "Recall= TP/(TP+FN)\n"
   ]
  },
  {
   "cell_type": "markdown",
   "id": "98e31e02",
   "metadata": {},
   "source": [
    "### Modifying the Decision Threshold"
   ]
  },
  {
   "cell_type": "markdown",
   "id": "d041df0f",
   "metadata": {},
   "source": [
    "- Modify the decision threshold so that the model makes more inexpensive errors"
   ]
  },
  {
   "cell_type": "code",
   "execution_count": 48,
   "id": "fb87639a",
   "metadata": {},
   "outputs": [],
   "source": [
    "def evaluate_with_treshold(models, scores, threshold, X, y):\n",
    "    t = PrettyTable(['Model\\Evaluation Metric'] + [str(score).split()[1] for score in scores])\n",
    "    for model in models:\n",
    "        y_pred = (model.predict_proba(X)[:,1] >= threshold).astype(bool)\n",
    "        t.add_row([str(model).split('(')[0]] + [score(y, y_pred) for score in scores])\n",
    "    print(t)\n",
    "    print('\\n')"
   ]
  },
  {
   "cell_type": "code",
   "execution_count": 49,
   "id": "71b8663e",
   "metadata": {},
   "outputs": [
    {
     "name": "stdout",
     "output_type": "stream",
     "text": [
      "+-------------------------+--------------------+--------------------+--------------------+--------------------+\n",
      "| Model\\Evaluation Metric |   accuracy_score   |  precision_score   |    recall_score    |   roc_auc_score    |\n",
      "+-------------------------+--------------------+--------------------+--------------------+--------------------+\n",
      "|    LogisticRegression   | 0.7654712789590606 | 0.4866369710467706 | 0.6111888111888112 | 0.7109720739031083 |\n",
      "|  DecisionTreeClassifier |        1.0         |        1.0         |        1.0         |        1.0         |\n",
      "|   KNeighborsClassifier  | 0.8562361155188829 | 0.6347736625514403 | 0.862937062937063  | 0.8586031784307646 |\n",
      "|  RandomForestClassifier | 0.9974611234528721 | 0.9889349930843707 |        1.0         | 0.9983579638752053 |\n",
      "+-------------------------+--------------------+--------------------+--------------------+--------------------+\n",
      "\n",
      "\n"
     ]
    }
   ],
   "source": [
    "evaluate_with_treshold(models, scores, 0.3, X_train, y_train)"
   ]
  },
  {
   "cell_type": "markdown",
   "id": "0cc45142",
   "metadata": {},
   "source": [
    "We will display the results of the initial models and the models with the shifted decision threshold to facilitate comparison of what happened with the threshold adjustment."
   ]
  },
  {
   "cell_type": "code",
   "execution_count": 50,
   "id": "73368148",
   "metadata": {},
   "outputs": [
    {
     "name": "stdout",
     "output_type": "stream",
     "text": [
      "+-------------------------+--------------------+--------------------+---------------------+--------------------+\n",
      "| Model\\Evaluation Metric |   accuracy_score   |  precision_score   |     recall_score    |   roc_auc_score    |\n",
      "+-------------------------+--------------------+--------------------+---------------------+--------------------+\n",
      "|    LogisticRegression   | 0.7927461139896373 | 0.6140350877192983 | 0.22875816993464052 | 0.593326453388373  |\n",
      "|  DecisionTreeClassifier | 0.8179126572908957 | 0.6027397260273972 |  0.5751633986928104 | 0.7320793070019076 |\n",
      "|   KNeighborsClassifier  | 0.8164322723908216 | 0.6141732283464567 |  0.5098039215686274 | 0.7080120086312037 |\n",
      "|  RandomForestClassifier | 0.8712065136935603 | 0.7796610169491526 |  0.6013071895424836 | 0.7757732119961223 |\n",
      "+-------------------------+--------------------+--------------------+---------------------+--------------------+\n",
      "\n",
      "\n"
     ]
    }
   ],
   "source": [
    "evaluate(models, scores, X_test, y_test)"
   ]
  },
  {
   "cell_type": "code",
   "execution_count": 51,
   "id": "cb6f3038",
   "metadata": {},
   "outputs": [
    {
     "name": "stdout",
     "output_type": "stream",
     "text": [
      "+-------------------------+--------------------+---------------------+--------------------+--------------------+\n",
      "| Model\\Evaluation Metric |   accuracy_score   |   precision_score   |    recall_score    |   roc_auc_score    |\n",
      "+-------------------------+--------------------+---------------------+--------------------+--------------------+\n",
      "|    LogisticRegression   | 0.7572168763878608 |  0.4696132596685083 | 0.5555555555555556 | 0.6859117490696438 |\n",
      "|  DecisionTreeClassifier | 0.8179126572908957 |  0.6027397260273972 | 0.5751633986928104 | 0.7320793070019076 |\n",
      "|   KNeighborsClassifier  | 0.7668393782383419 | 0.48951048951048953 | 0.6862745098039216 | 0.7383525659067455 |\n",
      "|  RandomForestClassifier | 0.8327165062916358 |  0.5930232558139535 | 0.8333333333333334 | 0.8329346092503987 |\n",
      "+-------------------------+--------------------+---------------------+--------------------+--------------------+\n",
      "\n",
      "\n"
     ]
    }
   ],
   "source": [
    "evaluate_with_treshold(models, scores, 0.3, X_test, y_test)"
   ]
  },
  {
   "cell_type": "markdown",
   "id": "47a0a404",
   "metadata": {},
   "source": [
    "We can see that by shifting the decision threshold, we sacrificed precision and accuracy to achieve better recall. Notice that, except for the DT model, all other models also increased the roc_auc score. The DT model did not change any score, which means that this model gives quite extreme probabilities, so the classes were not changed even when the threshold was shifted. For the other models, the differences are significant because the decision threshold was lowered by as much as 0.2 (by default, it is 0.5). This threshold is suitable only if it is essential for us not to miss many wines of good quality, and the FP error, which we will often make in this case, is cheap."
   ]
  },
  {
   "cell_type": "markdown",
   "id": "ee16f2fb",
   "metadata": {},
   "source": [
    "### Class Balancing"
   ]
  },
  {
   "cell_type": "code",
   "execution_count": 52,
   "id": "633455ce",
   "metadata": {},
   "outputs": [
    {
     "data": {
      "text/plain": [
       "top_quality\n",
       "0    0.783585\n",
       "1    0.216415\n",
       "Name: proportion, dtype: float64"
      ]
     },
     "execution_count": 52,
     "metadata": {},
     "output_type": "execute_result"
    }
   ],
   "source": [
    "df.top_quality.value_counts(normalize=True)"
   ]
  },
  {
   "cell_type": "markdown",
   "id": "5ed890a9",
   "metadata": {},
   "source": [
    "As already mentioned, the data is highly imbalanced. We have concluded that the positive class is more important, as it is five times smaller than the negative classes in the dataset. Given this, the models we build find it challenging to achieve good recall. We will try to balance the training set to see if we can get better results this way. It has been decided to apply the undersampling technique - we will reduce the number of observations of the negative class in the training set."
   ]
  },
  {
   "cell_type": "code",
   "execution_count": 53,
   "id": "95d37f85",
   "metadata": {},
   "outputs": [
    {
     "name": "stdout",
     "output_type": "stream",
     "text": [
      "Requirement already satisfied: imblearn in c:\\users\\nesic\\appdata\\local\\programs\\python\\python311\\lib\\site-packages (0.0)\n",
      "Requirement already satisfied: imbalanced-learn in c:\\users\\nesic\\appdata\\local\\programs\\python\\python311\\lib\\site-packages (from imblearn) (0.12.2)\n",
      "Requirement already satisfied: numpy>=1.17.3 in c:\\users\\nesic\\appdata\\local\\programs\\python\\python311\\lib\\site-packages (from imbalanced-learn->imblearn) (1.24.3)\n",
      "Requirement already satisfied: scipy>=1.5.0 in c:\\users\\nesic\\appdata\\local\\programs\\python\\python311\\lib\\site-packages (from imbalanced-learn->imblearn) (1.11.2)\n",
      "Requirement already satisfied: scikit-learn>=1.0.2 in c:\\users\\nesic\\appdata\\local\\programs\\python\\python311\\lib\\site-packages (from imbalanced-learn->imblearn) (1.3.0)\n",
      "Requirement already satisfied: joblib>=1.1.1 in c:\\users\\nesic\\appdata\\local\\programs\\python\\python311\\lib\\site-packages (from imbalanced-learn->imblearn) (1.3.2)\n",
      "Requirement already satisfied: threadpoolctl>=2.0.0 in c:\\users\\nesic\\appdata\\local\\programs\\python\\python311\\lib\\site-packages (from imbalanced-learn->imblearn) (3.2.0)\n",
      "Note: you may need to restart the kernel to use updated packages.\n"
     ]
    },
    {
     "name": "stderr",
     "output_type": "stream",
     "text": [
      "\n",
      "[notice] A new release of pip is available: 23.3 -> 24.0\n",
      "[notice] To update, run: python.exe -m pip install --upgrade pip\n"
     ]
    }
   ],
   "source": [
    "pip install imblearn"
   ]
  },
  {
   "cell_type": "code",
   "execution_count": 54,
   "id": "74224cb8",
   "metadata": {},
   "outputs": [],
   "source": [
    "from imblearn.under_sampling import RandomUnderSampler\n",
    "\n",
    "under_sampler = RandomUnderSampler(random_state=420)\n",
    "X_train_b, y_train_b = under_sampler.fit_resample(X_train, y_train)"
   ]
  },
  {
   "cell_type": "code",
   "execution_count": 55,
   "id": "157db014",
   "metadata": {},
   "outputs": [],
   "source": [
    "model_rf_b = RandomForestClassifier() #best model\n",
    "model_rf_b.fit(X_train_b, y_train_b)\n",
    "\n",
    "model_lr_b=LogisticRegression() \n",
    "model_lr_b.fit(X_train_b, y_train_b)\n",
    "\n",
    "b_models = [model_rf_b, model_lr_b]\n",
    "e_models = [model_rff, model_lr]"
   ]
  },
  {
   "cell_type": "code",
   "execution_count": 56,
   "id": "1cd5ad0d",
   "metadata": {},
   "outputs": [
    {
     "name": "stdout",
     "output_type": "stream",
     "text": [
      "+-------------------------+--------------------+--------------------+---------------------+--------------------+\n",
      "| Model\\Evaluation Metric |   accuracy_score   |  precision_score   |     recall_score    |   roc_auc_score    |\n",
      "+-------------------------+--------------------+--------------------+---------------------+--------------------+\n",
      "|  RandomForestClassifier | 0.8712065136935603 | 0.7796610169491526 |  0.6013071895424836 | 0.7757732119961223 |\n",
      "|    LogisticRegression   | 0.7927461139896373 | 0.6140350877192983 | 0.22875816993464052 | 0.593326453388373  |\n",
      "|  RandomForestClassifier | 0.7964470762398224 | 0.5316973415132924 |  0.8496732026143791 | 0.8152672233167588 |\n",
      "|    LogisticRegression   | 0.7239082161361954 | 0.4344422700587084 |  0.7254901960784313 | 0.7244675860774932 |\n",
      "+-------------------------+--------------------+--------------------+---------------------+--------------------+\n",
      "\n",
      "\n"
     ]
    }
   ],
   "source": [
    "evaluate(e_models + b_models, scores, X_test, y_test)"
   ]
  },
  {
   "cell_type": "markdown",
   "id": "992c79e4",
   "metadata": {},
   "source": [
    "We see that after class balancing, the Recall has significantly increased."
   ]
  },
  {
   "cell_type": "markdown",
   "id": "bf76fa67",
   "metadata": {},
   "source": [
    "Best attributes"
   ]
  },
  {
   "cell_type": "code",
   "execution_count": 57,
   "id": "0d57bfec",
   "metadata": {},
   "outputs": [
    {
     "data": {
      "text/html": [
       "<div>\n",
       "<style scoped>\n",
       "    .dataframe tbody tr th:only-of-type {\n",
       "        vertical-align: middle;\n",
       "    }\n",
       "\n",
       "    .dataframe tbody tr th {\n",
       "        vertical-align: top;\n",
       "    }\n",
       "\n",
       "    .dataframe thead th {\n",
       "        text-align: right;\n",
       "    }\n",
       "</style>\n",
       "<table border=\"1\" class=\"dataframe\">\n",
       "  <thead>\n",
       "    <tr style=\"text-align: right;\">\n",
       "      <th></th>\n",
       "      <th>feature</th>\n",
       "      <th>lr_coefs</th>\n",
       "      <th>rf_importance</th>\n",
       "    </tr>\n",
       "  </thead>\n",
       "  <tbody>\n",
       "    <tr>\n",
       "      <th>10</th>\n",
       "      <td>alcohol</td>\n",
       "      <td>3.445121</td>\n",
       "      <td>0.163392</td>\n",
       "    </tr>\n",
       "    <tr>\n",
       "      <th>7</th>\n",
       "      <td>density</td>\n",
       "      <td>-1.873756</td>\n",
       "      <td>0.116093</td>\n",
       "    </tr>\n",
       "    <tr>\n",
       "      <th>1</th>\n",
       "      <td>volatile acidity</td>\n",
       "      <td>-1.652666</td>\n",
       "      <td>0.094717</td>\n",
       "    </tr>\n",
       "    <tr>\n",
       "      <th>4</th>\n",
       "      <td>chlorides</td>\n",
       "      <td>-1.320235</td>\n",
       "      <td>0.089186</td>\n",
       "    </tr>\n",
       "    <tr>\n",
       "      <th>8</th>\n",
       "      <td>pH</td>\n",
       "      <td>1.557418</td>\n",
       "      <td>0.089122</td>\n",
       "    </tr>\n",
       "    <tr>\n",
       "      <th>6</th>\n",
       "      <td>total sulfur dioxide</td>\n",
       "      <td>-0.583349</td>\n",
       "      <td>0.086580</td>\n",
       "    </tr>\n",
       "    <tr>\n",
       "      <th>5</th>\n",
       "      <td>free sulfur dioxide</td>\n",
       "      <td>0.842108</td>\n",
       "      <td>0.081456</td>\n",
       "    </tr>\n",
       "    <tr>\n",
       "      <th>3</th>\n",
       "      <td>residual sugar</td>\n",
       "      <td>1.586256</td>\n",
       "      <td>0.075840</td>\n",
       "    </tr>\n",
       "    <tr>\n",
       "      <th>2</th>\n",
       "      <td>citric acid</td>\n",
       "      <td>0.067800</td>\n",
       "      <td>0.074106</td>\n",
       "    </tr>\n",
       "    <tr>\n",
       "      <th>0</th>\n",
       "      <td>fixed acidity</td>\n",
       "      <td>0.997347</td>\n",
       "      <td>0.064943</td>\n",
       "    </tr>\n",
       "    <tr>\n",
       "      <th>9</th>\n",
       "      <td>sulphates</td>\n",
       "      <td>0.617258</td>\n",
       "      <td>0.064564</td>\n",
       "    </tr>\n",
       "  </tbody>\n",
       "</table>\n",
       "</div>"
      ],
      "text/plain": [
       "                 feature  lr_coefs  rf_importance\n",
       "10               alcohol  3.445121       0.163392\n",
       "7                density -1.873756       0.116093\n",
       "1       volatile acidity -1.652666       0.094717\n",
       "4              chlorides -1.320235       0.089186\n",
       "8                     pH  1.557418       0.089122\n",
       "6   total sulfur dioxide -0.583349       0.086580\n",
       "5    free sulfur dioxide  0.842108       0.081456\n",
       "3         residual sugar  1.586256       0.075840\n",
       "2            citric acid  0.067800       0.074106\n",
       "0          fixed acidity  0.997347       0.064943\n",
       "9              sulphates  0.617258       0.064564"
      ]
     },
     "execution_count": 57,
     "metadata": {},
     "output_type": "execute_result"
    }
   ],
   "source": [
    "feature_importance = pd.DataFrame({'feature': df.columns[:-1], \n",
    "              'lr_coefs': model_lr_b.coef_[0],\n",
    "              'rf_importance': model_rf_b.feature_importances_})\n",
    "\n",
    "feature_importance.sort_values(by='rf_importance', ascending=False)"
   ]
  },
  {
   "cell_type": "markdown",
   "id": "0650def9",
   "metadata": {},
   "source": [
    "The LR model struggles significantly with imbalanced data, so we are better off trusting the imbalanced RF model. Therefore, even after balancing, RF yields better results and there is less difference between the results when working with balanced and imbalanced data. Hence, we choose RF as our model. On the other hand, we can notice that the coefficients of logistic regression are more useful in explaining the model because we can see precisely whether an attribute positively or negatively affects the target class."
   ]
  }
 ],
 "metadata": {
  "kernelspec": {
   "display_name": "Python 3 (ipykernel)",
   "language": "python",
   "name": "python3"
  },
  "language_info": {
   "codemirror_mode": {
    "name": "ipython",
    "version": 3
   },
   "file_extension": ".py",
   "mimetype": "text/x-python",
   "name": "python",
   "nbconvert_exporter": "python",
   "pygments_lexer": "ipython3",
   "version": "3.11.5"
  }
 },
 "nbformat": 4,
 "nbformat_minor": 5
}
